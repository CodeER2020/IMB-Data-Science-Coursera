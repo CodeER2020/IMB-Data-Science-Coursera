{
 "cells": [
  {
   "cell_type": "markdown",
   "id": "583d2bc9-a332-458f-a0c5-2fe8779ff108",
   "metadata": {
    "tags": []
   },
   "source": [
    "# Proyecto Capstone: Restaurantes en Toronto"
   ]
  },
  {
   "cell_type": "markdown",
   "id": "761476c9-0cb8-4091-b015-ddd9b94813c2",
   "metadata": {
    "jp-MarkdownHeadingCollapsed": true,
    "tags": []
   },
   "source": [
    "## Tabla de contenidos\n",
    "* [Introducción](#id1)\n",
    "* [Datos](#id2)"
   ]
  },
  {
   "cell_type": "markdown",
   "id": "d0534fef-ccde-4430-961a-bdd0224769b5",
   "metadata": {
    "tags": []
   },
   "source": [
    "## Introducción <a name=\"id1\"></a>"
   ]
  },
  {
   "cell_type": "markdown",
   "id": "7f4f3975-333f-43ab-9020-ec36ef272ba4",
   "metadata": {},
   "source": [
    "Durante la pandemia se vivió un cambio a nivel mundial. Muchos negocios cerraron o tuvieron que adaptarse a las nuevas condiciones para sobrevivir. Lo que dio como resultado a un cambio en las zonas comerciales de Toronto y el surgimiento de nuevas oportunidades en zonas no antes exploradas.\n",
    "\n",
    "El sector restaurantero fue unos de los más afectados, pero desde el verano pasado se ha visto un repunte de ventas casi a nivel de prepandemia. Estos factores han atraído nuevos inversionistas a este sector así que este proyecto tiene como objetivo identificar las mejores zonas de Toronto para establecer un nuevo restaurante. \n",
    "\n",
    "\n"
   ]
  },
  {
   "cell_type": "markdown",
   "id": "2df4cacf-7b17-4d53-9d87-2b07df8ad5fb",
   "metadata": {},
   "source": [
    "## Datos <a name=\"id2\"></a>"
   ]
  },
  {
   "cell_type": "markdown",
   "id": "56761888-9de8-4561-bd23-72e32c4c98f7",
   "metadata": {},
   "source": [
    "Con base en la definición de nuestro problema, los factores que influirán en su decisión son:\n",
    "\n",
    "* Numero de restaurantes por zona\n",
    "* Tipo de restaurantes\n",
    "* Museos, parques y otras atracciones  se consideran para determinar mejores zonas.\n",
    "\n",
    "Se necesitarán las siguientes fuentes de datos para generar la información requerida:\n",
    "\n",
    "*la cantidad de restaurantes y su tipo y ubicación en cada vecindario se obtendrá usando **API de Foursquare**"
   ]
  },
  {
   "cell_type": "code",
   "execution_count": null,
   "id": "9277f245-7e4e-48dc-b587-a975c3e1926a",
   "metadata": {},
   "outputs": [],
   "source": []
  }
 ],
 "metadata": {
  "kernelspec": {
   "display_name": "Python",
   "language": "python",
   "name": "conda-env-python-py"
  },
  "language_info": {
   "codemirror_mode": {
    "name": "ipython",
    "version": 3
   },
   "file_extension": ".py",
   "mimetype": "text/x-python",
   "name": "python",
   "nbconvert_exporter": "python",
   "pygments_lexer": "ipython3",
   "version": "3.7.12"
  }
 },
 "nbformat": 4,
 "nbformat_minor": 5
}
