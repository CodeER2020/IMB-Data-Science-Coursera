{
 "cells": [
  {
   "cell_type": "markdown",
   "id": "583d2bc9-a332-458f-a0c5-2fe8779ff108",
   "metadata": {
    "tags": []
   },
   "source": [
    "# Proyecto Capstone: Restaurantes en Toronto"
   ]
  },
  {
   "cell_type": "markdown",
   "id": "d0534fef-ccde-4430-961a-bdd0224769b5",
   "metadata": {
    "tags": []
   },
   "source": [
    "## Introducción"
   ]
  },
  {
   "cell_type": "markdown",
   "id": "7f4f3975-333f-43ab-9020-ec36ef272ba4",
   "metadata": {},
   "source": [
    "Durante la pandemia se vivió un cambio a nivel mundial. Muchos negocios cerraron o tuvieron que adaptarse a las nuevas condiciones para sobrevivir. Lo que dio como resultado a un cambio en las zonas comerciales de Toronto y el surgimiento de nuevas oportunidades en zonas no antes exploradas.\n",
    "\n",
    "El sector restaurantero fue unos de los más afectados, pero desde el verano pasado se ha visto un repunte de ventas casi a nivel de prepandemia. Estos factores han atraído nuevos inversionistas a este sector así que este proyecto tiene como objetivo identificar las mejores zonas de Toronto para establecer un nuevo restaurante. \n",
    "\n",
    "Se utilizarán datos de Foursquare para identificar el numero de restaurantes y el tipo de restaurante por zona.\n"
   ]
  },
  {
   "cell_type": "code",
   "execution_count": null,
   "id": "dfc5e94f-ed04-419a-a657-43d5670c8d50",
   "metadata": {},
   "outputs": [],
   "source": []
  },
  {
   "cell_type": "code",
   "execution_count": null,
   "id": "c1953ad2-6a65-4156-9be8-cb1fc5250a3a",
   "metadata": {},
   "outputs": [],
   "source": []
  }
 ],
 "metadata": {
  "kernelspec": {
   "display_name": "Python",
   "language": "python",
   "name": "conda-env-python-py"
  },
  "language_info": {
   "codemirror_mode": {
    "name": "ipython",
    "version": 3
   },
   "file_extension": ".py",
   "mimetype": "text/x-python",
   "name": "python",
   "nbconvert_exporter": "python",
   "pygments_lexer": "ipython3",
   "version": "3.7.12"
  }
 },
 "nbformat": 4,
 "nbformat_minor": 5
}
